{
  "cells": [
    {
      "cell_type": "markdown",
      "metadata": {
        "id": "xRFQJjmAgPPv"
      },
      "source": [
        "# Assignment 4"
      ]
    },
    {
      "cell_type": "markdown",
      "metadata": {
        "id": "eLY9HOokgoNX"
      },
      "source": [
        "\n",
        "Please do not change, delete or edit any cells. Write your code in between designated lines."
      ]
    },
    {
      "cell_type": "markdown",
      "metadata": {
        "id": "0iiZnyE_hHm4"
      },
      "source": [
        "## Question 1 (25 points)"
      ]
    },
    {
      "cell_type": "code",
      "execution_count": 2,
      "metadata": {},
      "outputs": [
        {
          "name": "stdout",
          "output_type": "stream",
          "text": [
            "Requirement already satisfied: Seaborn in /Users/salsabil/opt/anaconda3/lib/python3.9/site-packages (0.11.2)\n",
            "Requirement already satisfied: numpy>=1.15 in /Users/salsabil/opt/anaconda3/lib/python3.9/site-packages (from Seaborn) (1.21.5)\n",
            "Requirement already satisfied: matplotlib>=2.2 in /Users/salsabil/opt/anaconda3/lib/python3.9/site-packages (from Seaborn) (3.5.2)\n",
            "Requirement already satisfied: scipy>=1.0 in /Users/salsabil/opt/anaconda3/lib/python3.9/site-packages (from Seaborn) (1.9.1)\n",
            "Requirement already satisfied: pandas>=0.23 in /Users/salsabil/opt/anaconda3/lib/python3.9/site-packages (from Seaborn) (1.4.4)\n",
            "Requirement already satisfied: fonttools>=4.22.0 in /Users/salsabil/opt/anaconda3/lib/python3.9/site-packages (from matplotlib>=2.2->Seaborn) (4.25.0)\n",
            "Requirement already satisfied: python-dateutil>=2.7 in /Users/salsabil/opt/anaconda3/lib/python3.9/site-packages (from matplotlib>=2.2->Seaborn) (2.8.2)\n",
            "Requirement already satisfied: pyparsing>=2.2.1 in /Users/salsabil/opt/anaconda3/lib/python3.9/site-packages (from matplotlib>=2.2->Seaborn) (3.0.9)\n",
            "Requirement already satisfied: cycler>=0.10 in /Users/salsabil/opt/anaconda3/lib/python3.9/site-packages (from matplotlib>=2.2->Seaborn) (0.11.0)\n",
            "Requirement already satisfied: packaging>=20.0 in /Users/salsabil/opt/anaconda3/lib/python3.9/site-packages (from matplotlib>=2.2->Seaborn) (21.3)\n",
            "Requirement already satisfied: kiwisolver>=1.0.1 in /Users/salsabil/opt/anaconda3/lib/python3.9/site-packages (from matplotlib>=2.2->Seaborn) (1.4.2)\n",
            "Requirement already satisfied: pillow>=6.2.0 in /Users/salsabil/opt/anaconda3/lib/python3.9/site-packages (from matplotlib>=2.2->Seaborn) (9.2.0)\n",
            "Requirement already satisfied: pytz>=2020.1 in /Users/salsabil/opt/anaconda3/lib/python3.9/site-packages (from pandas>=0.23->Seaborn) (2022.1)\n",
            "Requirement already satisfied: six>=1.5 in /Users/salsabil/opt/anaconda3/lib/python3.9/site-packages (from python-dateutil>=2.7->matplotlib>=2.2->Seaborn) (1.16.0)\n",
            "Collecting geopandas\n",
            "  Downloading geopandas-0.12.2-py3-none-any.whl (1.1 MB)\n",
            "\u001b[2K     \u001b[90m━━━━━━━━━━━━━━━━━━━━━━━━━━━━━━━━━━━━━━━━\u001b[0m \u001b[32m1.1/1.1 MB\u001b[0m \u001b[31m8.0 MB/s\u001b[0m eta \u001b[36m0:00:00\u001b[0ma \u001b[36m0:00:01\u001b[0m\n",
            "\u001b[?25hRequirement already satisfied: packaging in /Users/salsabil/opt/anaconda3/lib/python3.9/site-packages (from geopandas) (21.3)\n",
            "Requirement already satisfied: pandas>=1.0.0 in /Users/salsabil/opt/anaconda3/lib/python3.9/site-packages (from geopandas) (1.4.4)\n",
            "Collecting fiona>=1.8\n",
            "  Downloading Fiona-1.9.0-cp39-cp39-macosx_10_15_x86_64.whl (26.7 MB)\n",
            "\u001b[2K     \u001b[90m━━━━━━━━━━━━━━━━━━━━━━━━━━━━━━━━━━━━━━━━\u001b[0m \u001b[32m26.7/26.7 MB\u001b[0m \u001b[31m12.0 MB/s\u001b[0m eta \u001b[36m0:00:00\u001b[0m00:01\u001b[0m00:01\u001b[0m\n",
            "\u001b[?25hCollecting shapely>=1.7\n",
            "  Downloading shapely-2.0.1-cp39-cp39-macosx_10_9_x86_64.whl (1.4 MB)\n",
            "\u001b[2K     \u001b[90m━━━━━━━━━━━━━━━━━━━━━━━━━━━━━━━━━━━━━━━━\u001b[0m \u001b[32m1.4/1.4 MB\u001b[0m \u001b[31m12.2 MB/s\u001b[0m eta \u001b[36m0:00:00\u001b[0m00:01\u001b[0m00:01\u001b[0m\n",
            "\u001b[?25hCollecting pyproj>=2.6.1.post1\n",
            "  Downloading pyproj-3.4.1-cp39-cp39-macosx_10_9_x86_64.whl (8.4 MB)\n",
            "\u001b[2K     \u001b[90m━━━━━━━━━━━━━━━━━━━━━━━━━━━━━━━━━━━━━━━━\u001b[0m \u001b[32m8.4/8.4 MB\u001b[0m \u001b[31m15.6 MB/s\u001b[0m eta \u001b[36m0:00:00\u001b[0m00:01\u001b[0m00:01\u001b[0m\n",
            "\u001b[?25hRequirement already satisfied: click~=8.0 in /Users/salsabil/opt/anaconda3/lib/python3.9/site-packages (from fiona>=1.8->geopandas) (8.0.4)\n",
            "Requirement already satisfied: certifi in /Users/salsabil/opt/anaconda3/lib/python3.9/site-packages (from fiona>=1.8->geopandas) (2022.9.24)\n",
            "Collecting click-plugins>=1.0\n",
            "  Downloading click_plugins-1.1.1-py2.py3-none-any.whl (7.5 kB)\n",
            "Collecting munch>=2.3.2\n",
            "  Downloading munch-2.5.0-py2.py3-none-any.whl (10 kB)\n",
            "Collecting cligj>=0.5\n",
            "  Downloading cligj-0.7.2-py3-none-any.whl (7.1 kB)\n",
            "Requirement already satisfied: attrs>=19.2.0 in /Users/salsabil/opt/anaconda3/lib/python3.9/site-packages (from fiona>=1.8->geopandas) (21.4.0)\n",
            "Requirement already satisfied: python-dateutil>=2.8.1 in /Users/salsabil/opt/anaconda3/lib/python3.9/site-packages (from pandas>=1.0.0->geopandas) (2.8.2)\n",
            "Requirement already satisfied: pytz>=2020.1 in /Users/salsabil/opt/anaconda3/lib/python3.9/site-packages (from pandas>=1.0.0->geopandas) (2022.1)\n",
            "Requirement already satisfied: numpy>=1.18.5 in /Users/salsabil/opt/anaconda3/lib/python3.9/site-packages (from pandas>=1.0.0->geopandas) (1.21.5)\n",
            "Requirement already satisfied: pyparsing!=3.0.5,>=2.0.2 in /Users/salsabil/opt/anaconda3/lib/python3.9/site-packages (from packaging->geopandas) (3.0.9)\n",
            "Requirement already satisfied: six in /Users/salsabil/opt/anaconda3/lib/python3.9/site-packages (from munch>=2.3.2->fiona>=1.8->geopandas) (1.16.0)\n",
            "Installing collected packages: shapely, pyproj, munch, cligj, click-plugins, fiona, geopandas\n",
            "Successfully installed click-plugins-1.1.1 cligj-0.7.2 fiona-1.9.0 geopandas-0.12.2 munch-2.5.0 pyproj-3.4.1 shapely-2.0.1\n"
          ]
        }
      ],
      "source": [
        "!pip install Seaborn\n",
        "!pip install geopandas"
      ]
    },
    {
      "cell_type": "code",
      "execution_count": 1,
      "metadata": {
        "id": "jwfycLiWgVa0"
      },
      "outputs": [],
      "source": [
        "# Please go to Palette_training_4 GitHub repo and \n",
        "\n",
        "# 1. Read Sask_RM_data.csv.\n",
        "# 2. Rename column namse Crop Year, Canola - bu/ac, Spring Wheat - bu/ac with\n",
        "# Year, Canola, SpringWheat respectively.\n",
        "import pandas as pd\n",
        "import numpy as np\n",
        "import matplotlib.pyplot as plt\n",
        "import seaborn as sns\n",
        "import geopandas as gpd\n",
        "import folium\n"
      ]
    },
    {
      "cell_type": "code",
      "execution_count": 4,
      "metadata": {
        "id": "1SX-x2rqkvbV"
      },
      "outputs": [],
      "source": [
        "# 1. Read csv file by using pandas \n",
        "\n",
        "## Your code here - down ##\n",
        "df = pd.read_csv('Sask_RM_data.csv')\n",
        "## Your code here - up ##"
      ]
    },
    {
      "cell_type": "code",
      "execution_count": 7,
      "metadata": {},
      "outputs": [
        {
          "data": {
            "text/html": [
              "<div>\n",
              "<style scoped>\n",
              "    .dataframe tbody tr th:only-of-type {\n",
              "        vertical-align: middle;\n",
              "    }\n",
              "\n",
              "    .dataframe tbody tr th {\n",
              "        vertical-align: top;\n",
              "    }\n",
              "\n",
              "    .dataframe thead th {\n",
              "        text-align: right;\n",
              "    }\n",
              "</style>\n",
              "<table border=\"1\" class=\"dataframe\">\n",
              "  <thead>\n",
              "    <tr style=\"text-align: right;\">\n",
              "      <th></th>\n",
              "      <th>Crop Year</th>\n",
              "      <th>RM</th>\n",
              "      <th>Canola - bu/ac</th>\n",
              "      <th>Spring Wheat - bu/ac</th>\n",
              "    </tr>\n",
              "  </thead>\n",
              "  <tbody>\n",
              "    <tr>\n",
              "      <th>0</th>\n",
              "      <td>2012</td>\n",
              "      <td>1</td>\n",
              "      <td>22.3</td>\n",
              "      <td>36.2</td>\n",
              "    </tr>\n",
              "    <tr>\n",
              "      <th>1</th>\n",
              "      <td>2012</td>\n",
              "      <td>2</td>\n",
              "      <td>28.6</td>\n",
              "      <td>37.2</td>\n",
              "    </tr>\n",
              "    <tr>\n",
              "      <th>2</th>\n",
              "      <td>2012</td>\n",
              "      <td>3</td>\n",
              "      <td>25.1</td>\n",
              "      <td>39.4</td>\n",
              "    </tr>\n",
              "    <tr>\n",
              "      <th>3</th>\n",
              "      <td>2012</td>\n",
              "      <td>4</td>\n",
              "      <td>21.6</td>\n",
              "      <td>31.6</td>\n",
              "    </tr>\n",
              "    <tr>\n",
              "      <th>4</th>\n",
              "      <td>2012</td>\n",
              "      <td>5</td>\n",
              "      <td>26.8</td>\n",
              "      <td>29.0</td>\n",
              "    </tr>\n",
              "  </tbody>\n",
              "</table>\n",
              "</div>"
            ],
            "text/plain": [
              "   Crop Year  RM  Canola - bu/ac  Spring Wheat - bu/ac\n",
              "0       2012   1            22.3                  36.2\n",
              "1       2012   2            28.6                  37.2\n",
              "2       2012   3            25.1                  39.4\n",
              "3       2012   4            21.6                  31.6\n",
              "4       2012   5            26.8                  29.0"
            ]
          },
          "execution_count": 7,
          "metadata": {},
          "output_type": "execute_result"
        }
      ],
      "source": [
        "df.head()"
      ]
    },
    {
      "cell_type": "code",
      "execution_count": 9,
      "metadata": {},
      "outputs": [
        {
          "name": "stdout",
          "output_type": "stream",
          "text": [
            "<class 'pandas.core.frame.DataFrame'>\n",
            "RangeIndex: 2950 entries, 0 to 2949\n",
            "Data columns (total 4 columns):\n",
            " #   Column                Non-Null Count  Dtype  \n",
            "---  ------                --------------  -----  \n",
            " 0   Crop Year             2950 non-null   int64  \n",
            " 1   RM                    2950 non-null   int64  \n",
            " 2   Canola - bu/ac        2905 non-null   float64\n",
            " 3   Spring Wheat - bu/ac  2899 non-null   float64\n",
            "dtypes: float64(2), int64(2)\n",
            "memory usage: 92.3 KB\n"
          ]
        }
      ],
      "source": [
        "df.info()"
      ]
    },
    {
      "cell_type": "code",
      "execution_count": 10,
      "metadata": {
        "id": "cdGqn-qvksVg"
      },
      "outputs": [],
      "source": [
        "# 2. Rename columns\n",
        "\n",
        "## Your code here - down ##\n",
        "df.rename(columns={'Crop Year':'Year', 'Canola - bu/ac':'Canola', 'Spring Wheat - bu/ac':'SpringWheat'}, inplace=True)\n",
        "## Your code here - up ##"
      ]
    },
    {
      "cell_type": "code",
      "execution_count": 11,
      "metadata": {},
      "outputs": [
        {
          "data": {
            "text/plain": [
              "Index(['Year', 'RM', 'Canola', 'SpringWheat'], dtype='object')"
            ]
          },
          "execution_count": 11,
          "metadata": {},
          "output_type": "execute_result"
        }
      ],
      "source": [
        "df.columns"
      ]
    },
    {
      "cell_type": "markdown",
      "metadata": {
        "id": "CVL1VhWNj06v"
      },
      "source": [
        "Question 2 (65 points)"
      ]
    },
    {
      "cell_type": "code",
      "execution_count": 13,
      "metadata": {
        "id": "obXacM3uiCcE"
      },
      "outputs": [
        {
          "data": {
            "text/plain": [
              "Year            0\n",
              "RM              0\n",
              "Canola         45\n",
              "SpringWheat    51\n",
              "dtype: int64"
            ]
          },
          "execution_count": 13,
          "metadata": {},
          "output_type": "execute_result"
        }
      ],
      "source": [
        "# 1. How many missing values in each column? \n",
        "\n",
        "## Your code here - down ##\n",
        "df.isna().sum()\n",
        "## Your code here - up ##"
      ]
    },
    {
      "cell_type": "code",
      "execution_count": 12,
      "metadata": {},
      "outputs": [
        {
          "data": {
            "text/plain": [
              "Year            0\n",
              "RM              0\n",
              "Canola         45\n",
              "SpringWheat    51\n",
              "dtype: int64"
            ]
          },
          "execution_count": 12,
          "metadata": {},
          "output_type": "execute_result"
        }
      ],
      "source": [
        "df.isnull().sum()"
      ]
    },
    {
      "cell_type": "code",
      "execution_count": 14,
      "metadata": {
        "id": "wNZcRd9bkhTS"
      },
      "outputs": [
        {
          "data": {
            "text/plain": [
              "array([  1,   2,   3,   4,   5,   6,   7,   8,   9,  10,  11,  12,  17,\n",
              "        18,  19,  31,  32,  33,  34,  35,  36,  37,  38,  39,  40,  42,\n",
              "        43,  44,  45,  46,  49,  51,  61,  63,  64,  65,  66,  67,  68,\n",
              "        69,  70,  71,  72,  73,  74,  75,  76,  77,  78,  79,  91,  92,\n",
              "        93,  94,  95,  96,  97,  98,  99, 100, 101, 102, 103, 104, 105,\n",
              "       106, 107, 108, 109, 110, 111, 121, 122, 123, 124, 125, 126, 127,\n",
              "       128, 129, 130, 131, 132, 133, 134, 135, 136, 137, 138, 139, 141,\n",
              "       142, 151, 152, 153, 154, 155, 156, 157, 158, 159, 160, 161, 162,\n",
              "       163, 164, 165, 166, 167, 168, 169, 171, 181, 183, 184, 185, 186,\n",
              "       187, 189, 190, 191, 193, 194, 211, 213, 214, 215, 216, 217, 218,\n",
              "       219, 220, 221, 222, 223, 224, 225, 226, 228, 229, 230, 231, 232,\n",
              "       241, 243, 244, 245, 246, 247, 248, 250, 251, 252, 253, 254, 255,\n",
              "       256, 257, 259, 260, 261, 271, 273, 274, 275, 276, 277, 279, 280,\n",
              "       281, 282, 283, 284, 285, 286, 287, 288, 290, 292, 301, 303, 304,\n",
              "       305, 307, 308, 309, 310, 312, 313, 314, 315, 316, 317, 318, 319,\n",
              "       320, 321, 322, 331, 333, 334, 335, 336, 337, 338, 339, 340, 341,\n",
              "       342, 343, 344, 345, 346, 347, 349, 350, 351, 352, 366, 367, 368,\n",
              "       369, 370, 371, 372, 373, 376, 377, 378, 379, 380, 381, 382, 394,\n",
              "       395, 397, 398, 399, 400, 401, 402, 403, 404, 405, 406, 409, 410,\n",
              "       411, 426, 427, 428, 429, 430, 431, 434, 435, 436, 437, 438, 439,\n",
              "       440, 442, 456, 457, 458, 459, 460, 461, 463, 464, 466, 467, 468,\n",
              "       469, 470, 471, 472, 486, 487, 488, 490, 491, 493, 494, 496, 497,\n",
              "       498, 499, 501, 502, 520, 555, 561, 588, 622])"
            ]
          },
          "execution_count": 14,
          "metadata": {},
          "output_type": "execute_result"
        }
      ],
      "source": [
        "# 2. Find unique values of RMs(Rural Municipalities).\n",
        "\n",
        "## Your code here - down ##\n",
        "df[\"RM\"].unique() \n",
        "## Your code here - up ##"
      ]
    },
    {
      "cell_type": "code",
      "execution_count": 15,
      "metadata": {
        "id": "X-7AiMCZkiji"
      },
      "outputs": [
        {
          "data": {
            "text/plain": [
              "RM\n",
              "271    45.284\n",
              "470    45.018\n",
              "439    44.116\n",
              "303    43.624\n",
              "338    42.881\n",
              "493    42.819\n",
              "440    42.747\n",
              "464    42.515\n",
              "410    42.223\n",
              "434    41.868\n",
              "Name: Canola, dtype: float64"
            ]
          },
          "execution_count": 15,
          "metadata": {},
          "output_type": "execute_result"
        }
      ],
      "source": [
        "# 3. Use groupby() and find top 10 RMs in terms of average Canola yield through 10 years.\n",
        "\n",
        "## Your code here - down ##\n",
        "df.groupby(\"RM\")[\"Canola\"].mean().sort_values(ascending=False).head(10)\n",
        "## Your code here - up ##"
      ]
    },
    {
      "cell_type": "code",
      "execution_count": 16,
      "metadata": {
        "id": "JqIEftfSmJha"
      },
      "outputs": [
        {
          "data": {
            "text/plain": [
              "RM\n",
              "44     20.339000\n",
              "10     21.168571\n",
              "69     22.418000\n",
              "45     22.920000\n",
              "40     23.265000\n",
              "19     24.163000\n",
              "51     24.683000\n",
              "101    24.993000\n",
              "9      25.364000\n",
              "70     25.807000\n",
              "Name: SpringWheat, dtype: float64"
            ]
          },
          "execution_count": 16,
          "metadata": {},
          "output_type": "execute_result"
        }
      ],
      "source": [
        "# 4. Use groupby() function and find worst 10 RMs in terms of average Spring Wheat through 10 years.\n",
        "\n",
        "## Your code here - down ##\n",
        "df.groupby(\"RM\")[\"SpringWheat\"].mean().sort_values(ascending=True).head(10)\n",
        "## Your code here - up ##"
      ]
    },
    {
      "cell_type": "code",
      "execution_count": 17,
      "metadata": {
        "id": "_u735AcFmyKX"
      },
      "outputs": [
        {
          "data": {
            "text/plain": [
              "Year\n",
              "2020    49.443357\n",
              "2019    49.227431\n",
              "2013    47.431525\n",
              "Name: SpringWheat, dtype: float64"
            ]
          },
          "execution_count": 17,
          "metadata": {},
          "output_type": "execute_result"
        }
      ],
      "source": [
        "# 4. Use groupby() function and find worst 3 best years in terms of average Spring Wheat.\n",
        "\n",
        "## Your code here - down ##\n",
        "df.groupby(\"Year\")[\"SpringWheat\"].mean().sort_values(ascending=False).head(3)\n",
        "## Your code here - up ##"
      ]
    },
    {
      "cell_type": "code",
      "execution_count": 18,
      "metadata": {
        "id": "VIeb0E0SmSYf"
      },
      "outputs": [
        {
          "data": {
            "text/plain": [
              "Year\n",
              "2021    30.216725\n",
              "2012    34.831633\n",
              "2015    37.016599\n",
              "Name: SpringWheat, dtype: float64"
            ]
          },
          "execution_count": 18,
          "metadata": {},
          "output_type": "execute_result"
        }
      ],
      "source": [
        "# 5. Use groupby() function and find worst 3 years in terms of average Spring Wheat through 10 years.\n",
        "\n",
        "## Your code here - down ##\n",
        "df.groupby(\"Year\")[\"SpringWheat\"].mean().sort_values(ascending=True).head(3)\n",
        "## Your code here - up ##"
      ]
    },
    {
      "cell_type": "markdown",
      "metadata": {
        "id": "jmsH1mGWpu3L"
      },
      "source": [
        "## Question 3 (10 points)"
      ]
    },
    {
      "cell_type": "markdown",
      "metadata": {
        "id": "U6OG5ANHp39Y"
      },
      "source": [
        "This task is independent exploratory data analysis. Find key insights from the dataset and share your code by creating new cells."
      ]
    },
    {
      "cell_type": "code",
      "execution_count": 19,
      "metadata": {},
      "outputs": [
        {
          "data": {
            "text/html": [
              "<div>\n",
              "<style scoped>\n",
              "    .dataframe tbody tr th:only-of-type {\n",
              "        vertical-align: middle;\n",
              "    }\n",
              "\n",
              "    .dataframe tbody tr th {\n",
              "        vertical-align: top;\n",
              "    }\n",
              "\n",
              "    .dataframe thead th {\n",
              "        text-align: right;\n",
              "    }\n",
              "</style>\n",
              "<table border=\"1\" class=\"dataframe\">\n",
              "  <thead>\n",
              "    <tr style=\"text-align: right;\">\n",
              "      <th></th>\n",
              "      <th>Year</th>\n",
              "      <th>RM</th>\n",
              "      <th>Canola</th>\n",
              "      <th>SpringWheat</th>\n",
              "    </tr>\n",
              "  </thead>\n",
              "  <tbody>\n",
              "    <tr>\n",
              "      <th>0</th>\n",
              "      <td>2012</td>\n",
              "      <td>1</td>\n",
              "      <td>22.3</td>\n",
              "      <td>36.2</td>\n",
              "    </tr>\n",
              "    <tr>\n",
              "      <th>1</th>\n",
              "      <td>2012</td>\n",
              "      <td>2</td>\n",
              "      <td>28.6</td>\n",
              "      <td>37.2</td>\n",
              "    </tr>\n",
              "    <tr>\n",
              "      <th>2</th>\n",
              "      <td>2012</td>\n",
              "      <td>3</td>\n",
              "      <td>25.1</td>\n",
              "      <td>39.4</td>\n",
              "    </tr>\n",
              "    <tr>\n",
              "      <th>3</th>\n",
              "      <td>2012</td>\n",
              "      <td>4</td>\n",
              "      <td>21.6</td>\n",
              "      <td>31.6</td>\n",
              "    </tr>\n",
              "    <tr>\n",
              "      <th>4</th>\n",
              "      <td>2012</td>\n",
              "      <td>5</td>\n",
              "      <td>26.8</td>\n",
              "      <td>29.0</td>\n",
              "    </tr>\n",
              "    <tr>\n",
              "      <th>...</th>\n",
              "      <td>...</td>\n",
              "      <td>...</td>\n",
              "      <td>...</td>\n",
              "      <td>...</td>\n",
              "    </tr>\n",
              "    <tr>\n",
              "      <th>2945</th>\n",
              "      <td>2021</td>\n",
              "      <td>520</td>\n",
              "      <td>36.6</td>\n",
              "      <td>46.9</td>\n",
              "    </tr>\n",
              "    <tr>\n",
              "      <th>2946</th>\n",
              "      <td>2021</td>\n",
              "      <td>555</td>\n",
              "      <td>36.9</td>\n",
              "      <td>54.1</td>\n",
              "    </tr>\n",
              "    <tr>\n",
              "      <th>2947</th>\n",
              "      <td>2021</td>\n",
              "      <td>561</td>\n",
              "      <td>26.8</td>\n",
              "      <td>47.6</td>\n",
              "    </tr>\n",
              "    <tr>\n",
              "      <th>2948</th>\n",
              "      <td>2021</td>\n",
              "      <td>588</td>\n",
              "      <td>30.2</td>\n",
              "      <td>46.1</td>\n",
              "    </tr>\n",
              "    <tr>\n",
              "      <th>2949</th>\n",
              "      <td>2021</td>\n",
              "      <td>622</td>\n",
              "      <td>23.9</td>\n",
              "      <td>17.0</td>\n",
              "    </tr>\n",
              "  </tbody>\n",
              "</table>\n",
              "<p>2950 rows × 4 columns</p>\n",
              "</div>"
            ],
            "text/plain": [
              "      Year   RM  Canola  SpringWheat\n",
              "0     2012    1    22.3         36.2\n",
              "1     2012    2    28.6         37.2\n",
              "2     2012    3    25.1         39.4\n",
              "3     2012    4    21.6         31.6\n",
              "4     2012    5    26.8         29.0\n",
              "...    ...  ...     ...          ...\n",
              "2945  2021  520    36.6         46.9\n",
              "2946  2021  555    36.9         54.1\n",
              "2947  2021  561    26.8         47.6\n",
              "2948  2021  588    30.2         46.1\n",
              "2949  2021  622    23.9         17.0\n",
              "\n",
              "[2950 rows x 4 columns]"
            ]
          },
          "execution_count": 19,
          "metadata": {},
          "output_type": "execute_result"
        }
      ],
      "source": [
        "df"
      ]
    },
    {
      "cell_type": "code",
      "execution_count": 24,
      "metadata": {},
      "outputs": [
        {
          "data": {
            "text/html": [
              "<div>\n",
              "<style scoped>\n",
              "    .dataframe tbody tr th:only-of-type {\n",
              "        vertical-align: middle;\n",
              "    }\n",
              "\n",
              "    .dataframe tbody tr th {\n",
              "        vertical-align: top;\n",
              "    }\n",
              "\n",
              "    .dataframe thead th {\n",
              "        text-align: right;\n",
              "    }\n",
              "</style>\n",
              "<table border=\"1\" class=\"dataframe\">\n",
              "  <thead>\n",
              "    <tr style=\"text-align: right;\">\n",
              "      <th></th>\n",
              "      <th>Year</th>\n",
              "      <th>RM</th>\n",
              "      <th>Canola</th>\n",
              "      <th>SpringWheat</th>\n",
              "    </tr>\n",
              "  </thead>\n",
              "  <tbody>\n",
              "    <tr>\n",
              "      <th>count</th>\n",
              "      <td>2950.000000</td>\n",
              "      <td>2950.000000</td>\n",
              "      <td>2905.000000</td>\n",
              "      <td>2899.000000</td>\n",
              "    </tr>\n",
              "    <tr>\n",
              "      <th>mean</th>\n",
              "      <td>2016.500000</td>\n",
              "      <td>247.298305</td>\n",
              "      <td>34.537115</td>\n",
              "      <td>42.008537</td>\n",
              "    </tr>\n",
              "    <tr>\n",
              "      <th>std</th>\n",
              "      <td>2.872768</td>\n",
              "      <td>148.244294</td>\n",
              "      <td>9.265391</td>\n",
              "      <td>12.039952</td>\n",
              "    </tr>\n",
              "    <tr>\n",
              "      <th>min</th>\n",
              "      <td>2012.000000</td>\n",
              "      <td>1.000000</td>\n",
              "      <td>4.000000</td>\n",
              "      <td>3.300000</td>\n",
              "    </tr>\n",
              "    <tr>\n",
              "      <th>25%</th>\n",
              "      <td>2014.000000</td>\n",
              "      <td>123.000000</td>\n",
              "      <td>28.300000</td>\n",
              "      <td>34.380000</td>\n",
              "    </tr>\n",
              "    <tr>\n",
              "      <th>50%</th>\n",
              "      <td>2016.500000</td>\n",
              "      <td>246.000000</td>\n",
              "      <td>35.600000</td>\n",
              "      <td>42.310000</td>\n",
              "    </tr>\n",
              "    <tr>\n",
              "      <th>75%</th>\n",
              "      <td>2019.000000</td>\n",
              "      <td>369.000000</td>\n",
              "      <td>41.250000</td>\n",
              "      <td>50.000000</td>\n",
              "    </tr>\n",
              "    <tr>\n",
              "      <th>max</th>\n",
              "      <td>2021.000000</td>\n",
              "      <td>622.000000</td>\n",
              "      <td>57.930000</td>\n",
              "      <td>198.000000</td>\n",
              "    </tr>\n",
              "  </tbody>\n",
              "</table>\n",
              "</div>"
            ],
            "text/plain": [
              "              Year           RM       Canola  SpringWheat\n",
              "count  2950.000000  2950.000000  2905.000000  2899.000000\n",
              "mean   2016.500000   247.298305    34.537115    42.008537\n",
              "std       2.872768   148.244294     9.265391    12.039952\n",
              "min    2012.000000     1.000000     4.000000     3.300000\n",
              "25%    2014.000000   123.000000    28.300000    34.380000\n",
              "50%    2016.500000   246.000000    35.600000    42.310000\n",
              "75%    2019.000000   369.000000    41.250000    50.000000\n",
              "max    2021.000000   622.000000    57.930000   198.000000"
            ]
          },
          "execution_count": 24,
          "metadata": {},
          "output_type": "execute_result"
        }
      ],
      "source": [
        "df.describe()"
      ]
    },
    {
      "cell_type": "code",
      "execution_count": 27,
      "metadata": {},
      "outputs": [
        {
          "data": {
            "text/html": [
              "<div>\n",
              "<style scoped>\n",
              "    .dataframe tbody tr th:only-of-type {\n",
              "        vertical-align: middle;\n",
              "    }\n",
              "\n",
              "    .dataframe tbody tr th {\n",
              "        vertical-align: top;\n",
              "    }\n",
              "\n",
              "    .dataframe thead th {\n",
              "        text-align: right;\n",
              "    }\n",
              "</style>\n",
              "<table border=\"1\" class=\"dataframe\">\n",
              "  <thead>\n",
              "    <tr style=\"text-align: right;\">\n",
              "      <th></th>\n",
              "      <th>Canola</th>\n",
              "      <th>SpringWheat</th>\n",
              "    </tr>\n",
              "  </thead>\n",
              "  <tbody>\n",
              "    <tr>\n",
              "      <th>Canola</th>\n",
              "      <td>1.000000</td>\n",
              "      <td>0.743229</td>\n",
              "    </tr>\n",
              "    <tr>\n",
              "      <th>SpringWheat</th>\n",
              "      <td>0.743229</td>\n",
              "      <td>1.000000</td>\n",
              "    </tr>\n",
              "  </tbody>\n",
              "</table>\n",
              "</div>"
            ],
            "text/plain": [
              "               Canola  SpringWheat\n",
              "Canola       1.000000     0.743229\n",
              "SpringWheat  0.743229     1.000000"
            ]
          },
          "execution_count": 27,
          "metadata": {},
          "output_type": "execute_result"
        }
      ],
      "source": [
        "# find the correlation between Canola and SpringWheat\n",
        "df1 = df[['Canola', 'SpringWheat']]\n",
        "df1.corr()"
      ]
    },
    {
      "cell_type": "code",
      "execution_count": 28,
      "metadata": {},
      "outputs": [
        {
          "data": {
            "text/plain": [
              "<AxesSubplot:xlabel='Canola', ylabel='SpringWheat'>"
            ]
          },
          "execution_count": 28,
          "metadata": {},
          "output_type": "execute_result"
        },
        {
          "data": {
            "image/png": "[encoded data removed]",
            "text/plain": [
              "<Figure size 640x480 with 1 Axes>"
            ]
          },
          "metadata": {},
          "output_type": "display_data"
        }
      ],
      "source": [
        "# 1. Use seaborn to plot a scatter plot between Canola and SpringWheat.\n",
        "df1 = df[['Canola', 'SpringWheat']]\n",
        "sns.scatterplot(data=df1, x=\"Canola\", y=\"SpringWheat\")\n"
      ]
    }
  ],
  "metadata": {
    "colab": {
      "provenance": []
    },
    "kernelspec": {
      "display_name": "base",
      "language": "python",
      "name": "python3"
    },
    "language_info": {
      "codemirror_mode": {
        "name": "ipython",
        "version": 3
      },
      "file_extension": ".py",
      "mimetype": "text/x-python",
      "name": "python",
      "nbconvert_exporter": "python",
      "pygments_lexer": "ipython3",
      "version": "3.9.13"
    },
    "vscode": {
      "interpreter": {
        "hash": "bc49020768bcc1e0fa9628c0d529987d4a8a3ba3c47c6e3e93a39425a2bbd945"
      }
    }
  },
  "nbformat": 4,
  "nbformat_minor": 0
}
